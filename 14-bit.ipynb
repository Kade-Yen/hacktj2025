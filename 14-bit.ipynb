{
 "cells": [
  {
   "cell_type": "code",
   "execution_count": 24,
   "metadata": {},
   "outputs": [],
   "source": [
    "from qiskit import QuantumCircuit\n",
    "from qiskit_aer import AerSimulator\n",
    "from qiskit import transpile\n",
    "from qiskit.visualization import plot_histogram\n",
    "from qiskit_aer import AerSimulator\n",
    "import numpy as np\n",
    "import matplotlib.pyplot as plt"
   ]
  },
  {
   "cell_type": "code",
   "execution_count": 1,
   "metadata": {},
   "outputs": [
    {
     "ename": "NameError",
     "evalue": "name 'QuantumCircuit' is not defined",
     "output_type": "error",
     "traceback": [
      "\u001b[31m---------------------------------------------------------------------------\u001b[39m",
      "\u001b[31mNameError\u001b[39m                                 Traceback (most recent call last)",
      "\u001b[36mCell\u001b[39m\u001b[36m \u001b[39m\u001b[32mIn[1]\u001b[39m\u001b[32m, line 6\u001b[39m\n\u001b[32m      4\u001b[39m     \u001b[38;5;28;01mreturn\u001b[39;00m qc\n\u001b[32m      5\u001b[39m n = \u001b[32m2\u001b[39m\n\u001b[32m----> \u001b[39m\u001b[32m6\u001b[39m qc = \u001b[43mQuantumCircuit\u001b[49m(n, n)\n\u001b[32m      7\u001b[39m qc.h(\u001b[38;5;28mrange\u001b[39m(n))\n\u001b[32m      8\u001b[39m iterations = \u001b[38;5;28mint\u001b[39m(np.pi / \u001b[32m4\u001b[39m * np.sqrt(\u001b[32m2\u001b[39m**n))\n",
      "\u001b[31mNameError\u001b[39m: name 'QuantumCircuit' is not defined"
     ]
    }
   ],
   "source": [
    "def oracle(n):\n",
    "    qc = QuantumCircuit(n)\n",
    "    qc.cz(0, 1)\n",
    "    return qc\n",
    "n = 2\n",
    "qc = QuantumCircuit(n, n)\n",
    "qc.h(range(n))\n",
    "iterations = int(np.pi / 4 * np.sqrt(2**n))\n",
    "for _ in range(iterations):\n",
    "    qc.append(oracle(n), range(n))\n",
    "    qc.h(range(n))\n",
    "    qc.x(range(n))\n",
    "    qc.h(n-1)\n",
    "    qc.cx(0, 1)\n",
    "    qc.h(n-1)\n",
    "    qc.x(range(n))\n",
    "    qc.h(range(n))\n",
    "\n",
    "qc.measure(range(n), range(n))\n",
    "simulator = AerSimulator()\n",
    "transpiled_qc = transpile(qc, simulator)\n",
    "job = simulator.run(transpiled_qc, shots=1024)\n",
    "result = job.result()\n",
    "counts = result.get_counts()\n",
    "print(\"Grover's Algorithm Results:\")\n",
    "print(counts)"
   ]
  }
 ],
 "metadata": {
  "kernelspec": {
   "display_name": "Python 3",
   "language": "python",
   "name": "python3"
  },
  "language_info": {
   "codemirror_mode": {
    "name": "ipython",
    "version": 3
   },
   "file_extension": ".py",
   "mimetype": "text/x-python",
   "name": "python",
   "nbconvert_exporter": "python",
   "pygments_lexer": "ipython3",
   "version": "3.11.4"
  }
 },
 "nbformat": 4,
 "nbformat_minor": 2
}
