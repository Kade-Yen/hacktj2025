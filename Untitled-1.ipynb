{
 "cells": [
  {
   "cell_type": "code",
   "execution_count": null,
   "metadata": {},
   "outputs": [
    {
     "ename": "SyntaxError",
     "evalue": "invalid syntax (2673133871.py, line 1)",
     "output_type": "error",
     "traceback": [
      "\u001b[1;36m  Cell \u001b[1;32mIn[2], line 1\u001b[1;36m\u001b[0m\n\u001b[1;33m    pip install qiskit\u001b[0m\n\u001b[1;37m        ^\u001b[0m\n\u001b[1;31mSyntaxError\u001b[0m\u001b[1;31m:\u001b[0m invalid syntax\n"
     ]
    }
   ],
   "source": [
    "pip install qiskit\n",
    "#hello"
   ]
  },
  {
   "cell_type": "code",
   "execution_count": 4,
   "metadata": {},
   "outputs": [
    {
     "name": "stdout",
     "output_type": "stream",
     "text": [
      "Defaulting to user installation because normal site-packages is not writeable\n",
      "Requirement already satisfied: pip in c:\\users\\japne\\appdata\\roaming\\python\\python310\\site-packages (24.3.1)\n",
      "Collecting pip\n",
      "  Downloading pip-25.0.1-py3-none-any.whl.metadata (3.7 kB)\n",
      "Downloading pip-25.0.1-py3-none-any.whl (1.8 MB)\n",
      "   ---------------------------------------- 0.0/1.8 MB ? eta -:--:--\n",
      "   ---------------------------------------- 0.0/1.8 MB ? eta -:--:--\n",
      "   ---------------------------------------- 0.0/1.8 MB ? eta -:--:--\n",
      "   ---------------------------------------- 0.0/1.8 MB ? eta -:--:--\n",
      "   ---------------------------------------- 0.0/1.8 MB ? eta -:--:--\n",
      "   ----- ---------------------------------- 0.3/1.8 MB ? eta -:--:--\n",
      "   ----- ---------------------------------- 0.3/1.8 MB ? eta -:--:--\n",
      "   ----- ---------------------------------- 0.3/1.8 MB ? eta -:--:--\n",
      "   ----- ---------------------------------- 0.3/1.8 MB ? eta -:--:--\n",
      "   ----- ---------------------------------- 0.3/1.8 MB ? eta -:--:--\n",
      "   ----- ---------------------------------- 0.3/1.8 MB ? eta -:--:--\n",
      "   ----------- ---------------------------- 0.5/1.8 MB 190.7 kB/s eta 0:00:07\n",
      "   ----------- ---------------------------- 0.5/1.8 MB 190.7 kB/s eta 0:00:07\n",
      "   ----------- ---------------------------- 0.5/1.8 MB 190.7 kB/s eta 0:00:07\n",
      "   ----------- ---------------------------- 0.5/1.8 MB 190.7 kB/s eta 0:00:07\n",
      "   ----------- ---------------------------- 0.5/1.8 MB 190.7 kB/s eta 0:00:07\n",
      "   ----------- ---------------------------- 0.5/1.8 MB 190.7 kB/s eta 0:00:07\n",
      "   ----------- ---------------------------- 0.5/1.8 MB 190.7 kB/s eta 0:00:07\n",
      "   ----------- ---------------------------- 0.5/1.8 MB 190.7 kB/s eta 0:00:07\n",
      "   ----------- ---------------------------- 0.5/1.8 MB 190.7 kB/s eta 0:00:07\n",
      "   ----------- ---------------------------- 0.5/1.8 MB 190.7 kB/s eta 0:00:07\n",
      "   ----------------- ---------------------- 0.8/1.8 MB 150.5 kB/s eta 0:00:08\n",
      "   ----------------- ---------------------- 0.8/1.8 MB 150.5 kB/s eta 0:00:08\n",
      "   ----------------- ---------------------- 0.8/1.8 MB 150.5 kB/s eta 0:00:08\n",
      "   ----------------- ---------------------- 0.8/1.8 MB 150.5 kB/s eta 0:00:08\n",
      "   ----------------- ---------------------- 0.8/1.8 MB 150.5 kB/s eta 0:00:08\n",
      "   ----------------- ---------------------- 0.8/1.8 MB 150.5 kB/s eta 0:00:08\n",
      "   ---------------------------- ----------- 1.3/1.8 MB 215.8 kB/s eta 0:00:03\n",
      "   ---------------------------- ----------- 1.3/1.8 MB 215.8 kB/s eta 0:00:03\n",
      "   ---------------------------------- ----- 1.6/1.8 MB 255.8 kB/s eta 0:00:02\n",
      "   ---------------------------------------- 1.8/1.8 MB 288.8 kB/s eta 0:00:00\n",
      "Installing collected packages: pip\n",
      "  Attempting uninstall: pip\n",
      "    Found existing installation: pip 24.3.1\n",
      "    Uninstalling pip-24.3.1:\n",
      "      Successfully uninstalled pip-24.3.1\n",
      "Successfully installed pip-25.0.1\n",
      "Note: you may need to restart the kernel to use updated packages.\n"
     ]
    }
   ],
   "source": [
    "pip install --upgrade pip"
   ]
  },
  {
   "cell_type": "code",
   "execution_count": 1,
   "metadata": {},
   "outputs": [
    {
     "ename": "SyntaxError",
     "evalue": "invalid syntax (3128677916.py, line 9)",
     "output_type": "error",
     "traceback": [
      "\u001b[1;36m  Cell \u001b[1;32mIn[1], line 9\u001b[1;36m\u001b[0m\n\u001b[1;33m    from qiskit-algorithms import AmplificationProblem, Grover\u001b[0m\n\u001b[1;37m               ^\u001b[0m\n\u001b[1;31mSyntaxError\u001b[0m\u001b[1;31m:\u001b[0m invalid syntax\n"
     ]
    }
   ],
   "source": [
    "import random\n",
    "import numpy as np\n",
    "from math import gcd\n",
    "from qiskit import QuantumCircuit, transpile\n",
    "from qiskit.visualization import plot_histogram\n",
    "#from qiskit_ibm_runtime import QiskitRuntimeService, Sampler, Estimator, Session, Options\n",
    "from qiskit_aer.primitives.sampler import Sampler\n",
    "from qiskit.circuit.library import PhaseOracle \n",
    "from qiskit-algorithms import AmplificationProblem, Grover\n",
    "from qiskit.primitives import BackendSampler\n",
    "import matplotlib.pyplot as plt\n",
    "import time\n",
    "import warnings\n",
    "import itertools\n",
    "\n",
    "warnings.filterwarnings(\"ignore\")\n",
    "\n",
    "def shors_algorithm(N):\n",
    "    a = random.randint(2, N-1)\n",
    "    \n",
    "    if gcd(a, N) > 1:\n",
    "        return gcd(a, N) \n",
    "\n",
    "    period = find_order_quantum(a, N)\n",
    "    if period % 2 == 0:\n",
    "        factor1 = gcd(a**(period // 2) - 1, N)\n",
    "        factor2 = gcd(a**(period // 2) + 1, N)\n",
    "        \n",
    "        if factor1 != 1 and factor1 != N:\n",
    "            return factor1\n",
    "        if factor2 != 1 and factor2 != N:\n",
    "            return factor2\n",
    "    \n",
    "    return None\n",
    "\n",
    "def find_order_quantum(a, N):\n",
    "    period = 1\n",
    "    while (a**period) % N != 1:\n",
    "        period += 1\n",
    "    return period\n",
    "\n",
    "def main():\n",
    "    N = 1111111\n",
    "    print(\"Starting Shor's algorithm to factor:\", N)\n",
    "    \n",
    "    start_time = time.time()\n",
    "    factor = shors_algorithm(N)\n",
    "    end_time = time.time()\n",
    "    \n",
    "    print(\"Found factor:\", factor)\n",
    "    print(\"Execution time:\", end_time - start_time, \"seconds\")\n",
    "\n",
    "if __name__ == \"__main__\":\n",
    "    main()\n"
   ]
  },
  {
   "cell_type": "code",
   "execution_count": null,
   "metadata": {},
   "outputs": [],
   "source": []
  }
 ],
 "metadata": {
  "kernelspec": {
   "display_name": "Python 3",
   "language": "python",
   "name": "python3"
  },
  "language_info": {
   "codemirror_mode": {
    "name": "ipython",
    "version": 3
   },
   "file_extension": ".py",
   "mimetype": "text/x-python",
   "name": "python",
   "nbconvert_exporter": "python",
   "pygments_lexer": "ipython3",
   "version": "3.10.1"
  }
 },
 "nbformat": 4,
 "nbformat_minor": 2
}
