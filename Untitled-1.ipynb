{
 "cells": [
  {
   "cell_type": "code",
   "execution_count": null,
   "metadata": {},
   "outputs": [
    {
     "ename": "",
     "evalue": "",
     "output_type": "error",
     "traceback": [
      "\u001b[1;31mRunning cells with 'Python 3.12.7' requires the ipykernel package.\n",
      "\u001b[1;31mRun the following command to install 'ipykernel' into the Python environment. \n",
      "\u001b[1;31mCommand: 'c:/Users/japne/anaconda3/python.exe -m pip install ipykernel -U --force-reinstall'"
     ]
    }
   ],
   "source": [
    "pip install qiskit\n",
    "#hello"
   ]
  },
  {
   "cell_type": "code",
   "execution_count": null,
   "metadata": {},
   "outputs": [],
   "source": [
    "pip install --upgrade pip"
   ]
  },
  {
   "cell_type": "code",
   "execution_count": null,
   "metadata": {},
   "outputs": [],
   "source": [
    "import random\n",
    "import numpy as np\n",
    "from math import gcd\n",
    "from qiskit import QuantumCircuit, transpile\n",
    "from qiskit.visualization import plot_histogram\n",
    "#from qiskit_ibm_runtime import QiskitRuntimeService, Sampler, Estimator, Session, Options\n",
    "from qiskit_aer.primitives.sampler import Sampler\n",
    "from qiskit.circuit.library import PhaseOracle \n",
    "from qiskit-algorithms import AmplificationProblem, Grover\n",
    "from qiskit.primitives import BackendSampler\n",
    "import matplotlib.pyplot as plt\n",
    "import time\n",
    "import warnings\n",
    "import itertools\n",
    "\n",
    "warnings.filterwarnings(\"ignore\")\n",
    "\n",
    "def shors_algorithm(N):\n",
    "    a = random.randint(2, N-1)\n",
    "    \n",
    "    if gcd(a, N) > 1:\n",
    "        return gcd(a, N) \n",
    "\n",
    "    period = find_order_quantum(a, N)\n",
    "    if period % 2 == 0:\n",
    "        factor1 = gcd(a**(period // 2) - 1, N)\n",
    "        factor2 = gcd(a**(period // 2) + 1, N)\n",
    "        \n",
    "        if factor1 != 1 and factor1 != N:\n",
    "            return factor1\n",
    "        if factor2 != 1 and factor2 != N:\n",
    "            return factor2\n",
    "    \n",
    "    return None\n",
    "\n",
    "def find_order_quantum(a, N):\n",
    "    period = 1\n",
    "    while (a**period) % N != 1:\n",
    "        period += 1\n",
    "    return period\n",
    "\n",
    "def main():\n",
    "    N = 1111111\n",
    "    print(\"Starting Shor's algorithm to factor:\", N)\n",
    "    \n",
    "    start_time = time.time()\n",
    "    factor = shors_algorithm(N)\n",
    "    end_time = time.time()\n",
    "    \n",
    "    print(\"Found factor:\", factor)\n",
    "    print(\"Execution time:\", end_time - start_time, \"seconds\")\n",
    "\n",
    "if __name__ == \"__main__\":\n",
    "    main()\n"
   ]
  },
  {
   "cell_type": "code",
   "execution_count": null,
   "metadata": {},
   "outputs": [],
   "source": []
  }
 ],
 "metadata": {
  "kernelspec": {
   "display_name": "Python 3",
   "language": "python",
   "name": "python3"
  },
  "language_info": {
   "codemirror_mode": {
    "name": "ipython",
    "version": 3
   },
   "file_extension": ".py",
   "mimetype": "text/x-python",
   "name": "python",
   "nbconvert_exporter": "python",
   "pygments_lexer": "ipython3",
   "version": "3.12.7"
  }
 },
 "nbformat": 4,
 "nbformat_minor": 2
}
