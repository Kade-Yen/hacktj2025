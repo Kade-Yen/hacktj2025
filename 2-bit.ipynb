{
 "cells": [
  {
   "cell_type": "code",
   "execution_count": 5,
   "metadata": {},
   "outputs": [],
   "source": [
    "from qiskit import QuantumCircuit\n",
    "from qiskit_aer import AerSimulator\n",
    "from qiskit import transpile\n",
    "from qiskit.visualization import plot_histogram\n",
    "from qiskit_aer import AerSimulator\n",
    "import numpy as np\n",
    "import matplotlib.pyplot as plt"
   ]
  },
  {
   "cell_type": "code",
   "execution_count": 18,
   "metadata": {},
   "outputs": [
    {
     "name": "stdout",
     "output_type": "stream",
     "text": [
      "Target state: |100⟩\n",
      "Grover's Algorithm Results:\n",
      "{'01': 1024}\n",
      "Converted Results (0-3):\n",
      "{1: 1024}\n"
     ]
    }
   ],
   "source": [
    "target_number = int(input(\"Enter a number between 0 and 3: \"))  \n",
    "target_state = format(target_number, '02b')  # Converts to binary string ('00', '01', '10', '11')\n",
    "print(f\"Target state: |{target_state}⟩\")\n",
    "\n",
    "def oracle(n, target_state):\n",
    "    qc = QuantumCircuit(n)\n",
    "    \n",
    "    # Apply X gates to flip target state to |11⟩ before applying CZ\n",
    "    for i in range(n):\n",
    "        if target_state[i] == '0':\n",
    "            qc.x(i)\n",
    "\n",
    "    qc.cz(0, 1)  # Phase flip on |11⟩\n",
    "\n",
    "    # Undo the X gates\n",
    "    for i in range(n):\n",
    "        if target_state[i] == '0':\n",
    "            qc.x(i)\n",
    "\n",
    "    return qc\n",
    "\n",
    "n = 2\n",
    "qc = QuantumCircuit(n, n)\n",
    "\n",
    "# Step 1: Apply Hadamard to all qubits (superposition)\n",
    "qc.h(range(n))\n",
    "\n",
    "# Step 2: Apply Grover Iterations\n",
    "iterations = int(np.pi / 4 * np.sqrt(2**n))\n",
    "\n",
    "for _ in range(iterations):\n",
    "    qc.append(oracle(n, target_state), range(n))  # Apply oracle\n",
    "\n",
    "    # Apply the diffusion operator\n",
    "    qc.h(range(n))\n",
    "    qc.x(range(n))\n",
    "    qc.h(n-1)\n",
    "    qc.cx(0, 1)  # Corrected diffusion operator for n=2\n",
    "    qc.h(n-1)\n",
    "    qc.x(range(n))\n",
    "    qc.h(range(n))\n",
    "\n",
    "# Step 3: Measurement\n",
    "qc.measure(range(n), range(n))\n",
    "\n",
    "# Simulate\n",
    "simulator = AerSimulator()\n",
    "transpiled_qc = transpile(qc, simulator)\n",
    "job = simulator.run(transpiled_qc, shots=1024)\n",
    "result = job.result()\n",
    "counts = result.get_counts()\n",
    "\n",
    "# Display results\n",
    "print(\"Grover's Algorithm Results:\")\n",
    "print(counts)\n",
    "\n",
    "# Convert binary states back to decimal (0-3)\n",
    "converted_counts = {}\n",
    "for state, count in counts.items():\n",
    "    decimal_state = int(state, 2)  # Convert binary string to decimal\n",
    "    converted_counts[decimal_state] = count\n",
    "\n",
    "# Display converted results\n",
    "print(\"Converted Results (0-3):\")\n",
    "print(converted_counts)"
   ]
  }
 ],
 "metadata": {
  "kernelspec": {
   "display_name": "Python 3",
   "language": "python",
   "name": "python3"
  },
  "language_info": {
   "codemirror_mode": {
    "name": "ipython",
    "version": 3
   },
   "file_extension": ".py",
   "mimetype": "text/x-python",
   "name": "python",
   "nbconvert_exporter": "python",
   "pygments_lexer": "ipython3",
   "version": "3.11.4"
  }
 },
 "nbformat": 4,
 "nbformat_minor": 2
}
