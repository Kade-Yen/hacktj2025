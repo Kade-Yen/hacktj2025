{
 "cells": [
  {
   "cell_type": "code",
   "execution_count": 1,
   "metadata": {},
   "outputs": [],
   "source": [
    "import math\n",
    "from qiskit import QuantumCircuit\n",
    "from qiskit.circuit.library import GroverOperator, MCMT, ZGate\n",
    "from qiskit.visualization import plot_distribution\n",
    "from qiskit_ibm_runtime import QiskitRuntimeService\n",
    "from qiskit_ibm_runtime import SamplerV2 as Sampler\n",
    "from qiskit_aer import AerSimulator\n"
   ]
  },
  {
   "cell_type": "code",
   "execution_count": 2,
   "metadata": {},
   "outputs": [],
   "source": [
    "backend = AerSimulator()\n",
    "\n",
    "\n",
    "def grover_oracle(marked_states):\n",
    "    if not isinstance(marked_states, list):\n",
    "        marked_states = [marked_states]\n",
    "    num_qubits = len(marked_states[0])\n",
    "\n",
    "    qc = QuantumCircuit(num_qubits)\n",
    "    for target in marked_states:\n",
    "        rev_target = target[::-1]\n",
    "        zero_inds = [ind for ind in range(num_qubits) if rev_target.startswith(\"0\", ind)]\n",
    "        qc.x(zero_inds)\n",
    "        qc.compose(MCMT(ZGate(), num_qubits - 1, 1), inplace=True)\n",
    "        qc.x(zero_inds)\n",
    "    return qc\n",
    "\n",
    "decryption_map = {\n",
    "    \"QXZ\": \"0\", \"JKP\": \"1\", \"MNO\": \"2\", \"BVZ\": \"3\",\n",
    "    \"WEX\": \"4\", \"TYA\": \"5\", \"PQS\": \"6\", \"DFU\": \"7\",\n",
    "    \"HJL\": \"8\", \"ZXC\": \"9\"\n",
    "}\n",
    "\n",
    "def decrypt_pin(encrypted_pin):\n",
    "    \"\"\"Convert encrypted letters back to a numeric PIN.\"\"\"\n",
    "    pin_length = 3\n",
    "    chunks = [encrypted_pin[i:i + pin_length] for i in range(0, len(encrypted_pin), pin_length)]\n",
    "    decrypted_pin = ''.join(decryption_map.get(chunk, \"?\") for chunk in chunks)\n",
    "    return decrypted_pin"
   ]
  },
  {
   "cell_type": "code",
   "execution_count": null,
   "metadata": {},
   "outputs": [
    {
     "name": "stderr",
     "output_type": "stream",
     "text": [
      "C:\\Users\\k22ey1n\\AppData\\Local\\Temp\\ipykernel_1428\\2658891271.py:14: DeprecationWarning: The class ``qiskit.circuit.library.generalized_gates.mcmt.MCMT`` is deprecated as of qiskit 1.4. It will be removed no earlier than 3 months after the release date. Use MCMTGate instead.\n",
      "  qc.compose(MCMT(ZGate(), num_qubits - 1, 1), inplace=True)\n"
     ]
    },
    {
     "ename": "",
     "evalue": "",
     "output_type": "error",
     "traceback": [
      "\u001b[1;31mThe Kernel crashed while executing code in the current cell or a previous cell. \n",
      "\u001b[1;31mPlease review the code in the cell(s) to identify a possible cause of the failure. \n",
      "\u001b[1;31mClick <a href='https://aka.ms/vscodeJupyterKernelCrash'>here</a> for more info. \n",
      "\u001b[1;31mView Jupyter <a href='command:jupyter.viewOutput'>log</a> for further details."
     ]
    }
   ],
   "source": [
    "\n",
    "marked_number = input(\"Enter the hash code:\")\n",
    "\n",
    "def decimal_to_binary(n, bits=2):\n",
    "    binary = []\n",
    "    while n > 0:\n",
    "        binary.append(str(n % 2))\n",
    "        n //= 2\n",
    "    while len(binary) < bits:\n",
    "        binary.append('0')\n",
    "    return ''.join(binary[::-1])\n",
    "\n",
    "marked_state = decimal_to_binary(int(decrypt_pin(marked_number)), bits=2)\n",
    "print(f\"Target state: |{marked_state}⟩\")\n",
    "\n",
    "marked_states = [\"0\" + marked_state]\n",
    "\n",
    "oracle = grover_oracle(marked_states)\n",
    "oracle.draw(output=\"mpl\", style=\"iqp\")\n",
    "grover_op = GroverOperator(oracle)\n",
    "grover_op.decompose().draw(output=\"mpl\", style=\"iqp\")\n",
    "optimal_num_iterations = math.floor(\n",
    "    math.pi / (4 * math.asin(math.sqrt(len(marked_states) / 2**grover_op.num_qubits)))\n",
    ")\n",
    "\n",
    "\n",
    "qc = QuantumCircuit(grover_op.num_qubits)\n",
    "qc.h(range(grover_op.num_qubits))\n",
    "qc.compose(grover_op.power(optimal_num_iterations), inplace=True)\n",
    "qc.measure_all()\n",
    "qc.draw(output=\"mpl\", style=\"iqp\")\n",
    "\n",
    "\n",
    "from qiskit.transpiler.preset_passmanagers import generate_preset_pass_manager\n",
    "\n",
    "target = backend.target\n",
    "pm = generate_preset_pass_manager(target=target, optimization_level=3)\n",
    "\n",
    "circuit_isa = pm.run(qc)\n",
    "circuit_isa.draw(output=\"mpl\", idle_wires=False, style=\"iqp\")\n",
    "\n",
    "\n",
    "shots = 10000\n",
    "sampler = Sampler(mode=backend)\n",
    "sampler.options.default_shots = shots\n",
    "result = sampler.run([circuit_isa]).result()\n",
    "dist = result[0].data.meas.get_counts()\n",
    "\n",
    "max_outcome = max(dist, key=dist.get)\n",
    "max_count = dist[max_outcome]\n",
    "\n",
    "def binary_to_decimal(binary_str):\n",
    "    \"\"\"Converts a binary string to its decimal equivalent.\"\"\"\n",
    "    decimal_value = 0\n",
    "    power = 0\n",
    "    for digit in reversed(binary_str):\n",
    "        if digit == '1':\n",
    "            decimal_value += 2 ** power\n",
    "        elif digit != '0':\n",
    "            raise ValueError(\"Invalid binary string: contains non-binary characters\")\n",
    "        power += 1\n",
    "    return decimal_value\n",
    "\n",
    "max_outcome = binary_to_decimal(max_outcome + \"\")\n",
    "max_count = max_count / shots\n",
    "print(f\"Most probable outcome: {max_outcome} with count: {max_count}\")\n",
    "\n",
    "plot_distribution(dist)"
   ]
  }
 ],
 "metadata": {
  "kernelspec": {
   "display_name": "Python 3",
   "language": "python",
   "name": "python3"
  },
  "language_info": {
   "codemirror_mode": {
    "name": "ipython",
    "version": 3
   },
   "file_extension": ".py",
   "mimetype": "text/x-python",
   "name": "python",
   "nbconvert_exporter": "python",
   "pygments_lexer": "ipython3",
   "version": "3.11.4"
  }
 },
 "nbformat": 4,
 "nbformat_minor": 2
}
