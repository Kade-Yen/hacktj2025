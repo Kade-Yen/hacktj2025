{
 "cells": [
  {
   "cell_type": "code",
   "execution_count": 1,
   "metadata": {},
   "outputs": [],
   "source": [
    "import pennylane as qml\n",
    "import numpy as np"
   ]
  },
  {
   "cell_type": "code",
   "execution_count": 2,
   "metadata": {},
   "outputs": [
    {
     "ename": "NameError",
     "evalue": "name 'equal_superposition' is not defined",
     "output_type": "error",
     "traceback": [
      "\u001b[31m---------------------------------------------------------------------------\u001b[39m",
      "\u001b[31mNameError\u001b[39m                                 Traceback (most recent call last)",
      "\u001b[36mCell\u001b[39m\u001b[36m \u001b[39m\u001b[32mIn[2]\u001b[39m\u001b[32m, line 27\u001b[39m\n\u001b[32m     23\u001b[39m     qml.Snapshot(\u001b[33m\"\u001b[39m\u001b[33mAmplitude after diffusion\u001b[39m\u001b[33m\"\u001b[39m)\n\u001b[32m     24\u001b[39m     \u001b[38;5;28;01mreturn\u001b[39;00m qml.probs(wires=wires)\n\u001b[32m---> \u001b[39m\u001b[32m27\u001b[39m results = \u001b[43mqml\u001b[49m\u001b[43m.\u001b[49m\u001b[43msnapshots\u001b[49m\u001b[43m(\u001b[49m\u001b[43mcircuit\u001b[49m\u001b[43m)\u001b[49m\u001b[43m(\u001b[49m\u001b[43m)\u001b[49m\n\u001b[32m     29\u001b[39m \u001b[38;5;28;01mfor\u001b[39;00m k, result \u001b[38;5;129;01min\u001b[39;00m results.items():\n\u001b[32m     30\u001b[39m     \u001b[38;5;28mprint\u001b[39m(\u001b[33mf\u001b[39m\u001b[33m\"\u001b[39m\u001b[38;5;132;01m{\u001b[39;00mk\u001b[38;5;132;01m}\u001b[39;00m\u001b[33m: \u001b[39m\u001b[38;5;132;01m{\u001b[39;00mresult\u001b[38;5;132;01m}\u001b[39;00m\u001b[33m\"\u001b[39m)\n",
      "\u001b[36mFile \u001b[39m\u001b[32mc:\\Users\\k22ey1n\\AppData\\Local\\Programs\\Python\\Python311\\Lib\\site-packages\\pennylane\\debugging\\snapshot.py:217\u001b[39m, in \u001b[36msnapshots_qnode.<locals>.get_snapshots\u001b[39m\u001b[34m(*args, **kwargs)\u001b[39m\n\u001b[32m    215\u001b[39m \u001b[38;5;28;01mdef\u001b[39;00m\u001b[38;5;250m \u001b[39m\u001b[34mget_snapshots\u001b[39m(*args, **kwargs):\n\u001b[32m    216\u001b[39m     \u001b[38;5;66;03m# Need to construct to generate the tape and be able to validate\u001b[39;00m\n\u001b[32m--> \u001b[39m\u001b[32m217\u001b[39m     tape = \u001b[43mqml\u001b[49m\u001b[43m.\u001b[49m\u001b[43mworkflow\u001b[49m\u001b[43m.\u001b[49m\u001b[43mconstruct_tape\u001b[49m\u001b[43m(\u001b[49m\u001b[43mqnode\u001b[49m\u001b[43m)\u001b[49m\u001b[43m(\u001b[49m\u001b[43m*\u001b[49m\u001b[43margs\u001b[49m\u001b[43m,\u001b[49m\u001b[43m \u001b[49m\u001b[43m*\u001b[49m\u001b[43m*\u001b[49m\u001b[43mkwargs\u001b[49m\u001b[43m)\u001b[49m\n\u001b[32m    218\u001b[39m     qml.devices.preprocess.validate_measurements(tape)\n\u001b[32m    220\u001b[39m     old_interface = qnode.interface\n",
      "\u001b[36mFile \u001b[39m\u001b[32mc:\\Users\\k22ey1n\\AppData\\Local\\Programs\\Python\\Python311\\Lib\\site-packages\\pennylane\\workflow\\construct_tape.py:71\u001b[39m, in \u001b[36mconstruct_tape.<locals>.wrapper\u001b[39m\u001b[34m(*args, **kwargs)\u001b[39m\n\u001b[32m     69\u001b[39m \u001b[38;5;28;01mdef\u001b[39;00m\u001b[38;5;250m \u001b[39m\u001b[34mwrapper\u001b[39m(*args, **kwargs):\n\u001b[32m---> \u001b[39m\u001b[32m71\u001b[39m     batch, _ = \u001b[43mqml\u001b[49m\u001b[43m.\u001b[49m\u001b[43mworkflow\u001b[49m\u001b[43m.\u001b[49m\u001b[43mconstruct_batch\u001b[49m\u001b[43m(\u001b[49m\u001b[43mqnode\u001b[49m\u001b[43m,\u001b[49m\u001b[43m \u001b[49m\u001b[43mlevel\u001b[49m\u001b[43m)\u001b[49m\u001b[43m(\u001b[49m\u001b[43m*\u001b[49m\u001b[43margs\u001b[49m\u001b[43m,\u001b[49m\u001b[43m \u001b[49m\u001b[43m*\u001b[49m\u001b[43m*\u001b[49m\u001b[43mkwargs\u001b[49m\u001b[43m)\u001b[49m\n\u001b[32m     73\u001b[39m     \u001b[38;5;28;01mif\u001b[39;00m \u001b[38;5;28mlen\u001b[39m(batch) > \u001b[32m1\u001b[39m:\n\u001b[32m     74\u001b[39m         \u001b[38;5;28;01mraise\u001b[39;00m \u001b[38;5;167;01mValueError\u001b[39;00m(\n\u001b[32m     75\u001b[39m             \u001b[33m\"\u001b[39m\u001b[33mLevel requested corresponds to more than one tape. Please use `qml.workflow.construct_batch` instead for this level.\u001b[39m\u001b[33m\"\u001b[39m\n\u001b[32m     76\u001b[39m         )\n",
      "\u001b[36mFile \u001b[39m\u001b[32mc:\\Users\\k22ey1n\\AppData\\Local\\Programs\\Python\\Python311\\Lib\\site-packages\\pennylane\\workflow\\construct_batch.py:358\u001b[39m, in \u001b[36mconstruct_batch.<locals>.batch_constructor\u001b[39m\u001b[34m(*args, **kwargs)\u001b[39m\n\u001b[32m    351\u001b[39m     cntxt.watch(\u001b[38;5;28mlist\u001b[39m(qnode.qnode_weights.values()))\n\u001b[32m    353\u001b[39m     kwargs = {\n\u001b[32m    354\u001b[39m         **{k: \u001b[32m1.0\u001b[39m * w \u001b[38;5;28;01mfor\u001b[39;00m k, w \u001b[38;5;129;01min\u001b[39;00m qnode.qnode_weights.items()},\n\u001b[32m    355\u001b[39m         **kwargs,\n\u001b[32m    356\u001b[39m     }\n\u001b[32m--> \u001b[39m\u001b[32m358\u001b[39m initial_tape = \u001b[43mqml\u001b[49m\u001b[43m.\u001b[49m\u001b[43mtape\u001b[49m\u001b[43m.\u001b[49m\u001b[43mmake_qscript\u001b[49m\u001b[43m(\u001b[49m\u001b[43mqnode\u001b[49m\u001b[43m.\u001b[49m\u001b[43mfunc\u001b[49m\u001b[43m,\u001b[49m\u001b[43m \u001b[49m\u001b[43mshots\u001b[49m\u001b[43m=\u001b[49m\u001b[43mshots\u001b[49m\u001b[43m)\u001b[49m\u001b[43m(\u001b[49m\u001b[43m*\u001b[49m\u001b[43margs\u001b[49m\u001b[43m,\u001b[49m\u001b[43m \u001b[49m\u001b[43m*\u001b[49m\u001b[43m*\u001b[49m\u001b[43mkwargs\u001b[49m\u001b[43m)\u001b[49m\n\u001b[32m    359\u001b[39m params = initial_tape.get_parameters(trainable_only=\u001b[38;5;28;01mFalse\u001b[39;00m)\n\u001b[32m    360\u001b[39m initial_tape.trainable_params = qml.math.get_trainable_indices(params)\n",
      "\u001b[36mFile \u001b[39m\u001b[32mc:\\Users\\k22ey1n\\AppData\\Local\\Programs\\Python\\Python311\\Lib\\site-packages\\pennylane\\tape\\qscript.py:1428\u001b[39m, in \u001b[36mmake_qscript.<locals>.wrapper\u001b[39m\u001b[34m(*args, **kwargs)\u001b[39m\n\u001b[32m   1426\u001b[39m \u001b[38;5;28;01mdef\u001b[39;00m\u001b[38;5;250m \u001b[39m\u001b[34mwrapper\u001b[39m(*args, **kwargs):\n\u001b[32m   1427\u001b[39m     \u001b[38;5;28;01mwith\u001b[39;00m AnnotatedQueue() \u001b[38;5;28;01mas\u001b[39;00m q:\n\u001b[32m-> \u001b[39m\u001b[32m1428\u001b[39m         \u001b[43mfn\u001b[49m\u001b[43m(\u001b[49m\u001b[43m*\u001b[49m\u001b[43margs\u001b[49m\u001b[43m,\u001b[49m\u001b[43m \u001b[49m\u001b[43m*\u001b[49m\u001b[43m*\u001b[49m\u001b[43mkwargs\u001b[49m\u001b[43m)\u001b[49m\n\u001b[32m   1430\u001b[39m     \u001b[38;5;28;01mreturn\u001b[39;00m QuantumScript.from_queue(q, shots)\n",
      "\u001b[36mCell\u001b[39m\u001b[36m \u001b[39m\u001b[32mIn[2]\u001b[39m\u001b[32m, line 16\u001b[39m, in \u001b[36mcircuit\u001b[39m\u001b[34m()\u001b[39m\n\u001b[32m     14\u001b[39m \u001b[38;5;129m@qml\u001b[39m.qnode(dev)\n\u001b[32m     15\u001b[39m \u001b[38;5;28;01mdef\u001b[39;00m\u001b[38;5;250m \u001b[39m\u001b[34mcircuit\u001b[39m():\n\u001b[32m---> \u001b[39m\u001b[32m16\u001b[39m     \u001b[43mequal_superposition\u001b[49m(wires)\n\u001b[32m     17\u001b[39m     qml.Snapshot(\u001b[33m\"\u001b[39m\u001b[33mUniform superposition |s>\u001b[39m\u001b[33m\"\u001b[39m)\n\u001b[32m     19\u001b[39m     oracle(wires, omega)\n",
      "\u001b[31mNameError\u001b[39m: name 'equal_superposition' is not defined"
     ]
    }
   ],
   "source": [
    "NUM_QUBITS = 2\n",
    "dev = qml.device(\"default.qubit\", wires=NUM_QUBITS)\n",
    "wires = list(range(NUM_QUBITS))\n",
    "\n",
    "def diffusion_operator(wires):\n",
    "    for wire in wires:\n",
    "        qml.Hadamard(wires=wire)\n",
    "        qml.PauliZ(wires=wire)\n",
    "    qml.ctrl(qml.PauliZ, 0)(wires=1)\n",
    "    for wire in wires:\n",
    "        qml.Hadamard(wires=wire)\n",
    "\n",
    "\n",
    "@qml.qnode(dev)\n",
    "def circuit():\n",
    "    equal_superposition(wires)\n",
    "    qml.Snapshot(\"Uniform superposition |s>\")\n",
    "\n",
    "    oracle(wires, omega)\n",
    "    qml.Snapshot(\"State marked by Oracle\")\n",
    "    diffusion_operator(wires)\n",
    "\n",
    "    qml.Snapshot(\"Amplitude after diffusion\")\n",
    "    return qml.probs(wires=wires)\n",
    "\n",
    "\n",
    "results = qml.snapshots(circuit)()\n",
    "\n",
    "for k, result in results.items():\n",
    "    print(f\"{k}: {result}\")"
   ]
  }
 ],
 "metadata": {
  "kernelspec": {
   "display_name": "Python 3",
   "language": "python",
   "name": "python3"
  },
  "language_info": {
   "codemirror_mode": {
    "name": "ipython",
    "version": 3
   },
   "file_extension": ".py",
   "mimetype": "text/x-python",
   "name": "python",
   "nbconvert_exporter": "python",
   "pygments_lexer": "ipython3",
   "version": "3.11.4"
  }
 },
 "nbformat": 4,
 "nbformat_minor": 2
}
